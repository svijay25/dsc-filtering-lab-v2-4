{
 "cells": [
  {
   "cell_type": "markdown",
   "metadata": {},
   "source": [
    "# Filtering Data with SQL - Lab"
   ]
  },
  {
   "cell_type": "markdown",
   "metadata": {},
   "source": [
    "## Introduction \n",
    "\n",
    "NASA wants to go to Mars! Before they build their rocket, NASA needs to track information about all of the planets in the Solar System. In this lab, you'll practice querying the database with various `SELECT` statements. This will include selecting different columns and implementing other SQL clauses like `WHERE` to return the data desired."
   ]
  },
  {
   "cell_type": "markdown",
   "metadata": {},
   "source": [
    "<img src=\"https://raw.githubusercontent.com/learn-co-curriculum/dsc-filtering-lab-v2-4/master/images/planets.png\" alt=\"image of solar system\" width=\"600\">"
   ]
  },
  {
   "cell_type": "markdown",
   "metadata": {},
   "source": [
    "## Objectives\n",
    "\n",
    "You will practice the following:\n",
    "\n",
    "* Retrieve a subset of records from a table using a `WHERE` clause\n",
    "* Filter results using conditional operators such as `BETWEEN`, `IS NULL`, and `LIKE`\n",
    "* Apply an aggregate function to the result of a filtered query"
   ]
  },
  {
   "cell_type": "markdown",
   "metadata": {},
   "source": [
    "## Connecting to the Database\n",
    "\n",
    "To get started, import `sqlite3` as well as `pandas` for conveniently displaying results. Then, connect to the SQLite database located at `planets.db`. "
   ]
  },
  {
   "cell_type": "code",
   "execution_count": 1,
   "metadata": {},
   "outputs": [
    {
     "name": "stdout",
     "output_type": "stream",
     "text": [
      "   id     name       color  num_of_moons    mass  rings\n",
      "0   1  Mercury        gray             0    0.55      0\n",
      "1   2    Venus      yellow             0    0.82      0\n",
      "2   3    Earth        blue             1    1.00      0\n",
      "3   4     Mars         red             2    0.11      0\n",
      "4   5  Jupiter      orange            68  317.90      0\n",
      "5   6   Saturn       hazel            62   95.19      1\n",
      "6   7   Uranus  light blue            27   14.54      1\n",
      "7   8  Neptune   dark blue            14   17.15      1\n"
     ]
    }
   ],
   "source": [
    "# Your code here\n",
    "import sqlite3\n",
    "import pandas as pd\n",
    "\n",
    "# Establish a connection to the SQLite database\n",
    "conn = sqlite3.connect('planets.db')\n",
    "\n",
    "# Write a SQL query\n",
    "query = \"SELECT * FROM planets\"\n",
    "\n",
    "# Execute the query and fetch the data into a pandas DataFrame\n",
    "df = pd.read_sql_query(query, conn)\n",
    "\n",
    "# Display the DataFrame\n",
    "print(df)"
   ]
  },
  {
   "cell_type": "markdown",
   "metadata": {},
   "source": [
    "## Database Schema\n",
    "\n",
    "This database contains a single table, `planets`. This is the schema:\n",
    "\n",
    "```\n",
    "CREATE TABLE planets (\n",
    "  id INTEGER PRIMARY KEY,\n",
    "  name TEXT,\n",
    "  color TEXT,\n",
    "  num_of_moons INTEGER,\n",
    "  mass REAL,\n",
    "  rings BOOLEAN\n",
    ");\n",
    "```\n",
    "\n",
    "The data looks something like this:\n",
    "\n",
    "| id | name    | color      | num_of_moons | mass   | rings |\n",
    "| -- | ------- | ---------- | ------------ | ------ | ----- |\n",
    "| 1  | Mercury | gray       | 0            | 0.55   | FALSE |\n",
    "| 2  | Venus   | yellow     | 0            | 0.82   | FALSE |\n",
    "| 3  | Earth   | blue       | 1            | 1.00   | FALSE |\n",
    "| 4  | Mars    | red        | 2            | 0.11   | FALSE |\n",
    "| 5  | Jupiter | orange     | 67           | 317.90 | FALSE |\n",
    "| 6  | Saturn  | hazel      | 62           | 95.19  | TRUE  |\n",
    "| 7  | Uranus  | light blue | 27           | 14.54  | TRUE  |\n",
    "| 8  | Neptune | dark blue  | 14           | 17.15  | TRUE  |"
   ]
  },
  {
   "cell_type": "markdown",
   "metadata": {},
   "source": [
    "## SQL Queries\n",
    "\n",
    "Write SQL queries for each of the statements below using the same pandas wrapping syntax from the previous lesson."
   ]
  },
  {
   "cell_type": "markdown",
   "metadata": {},
   "source": [
    "### 1. Select just the `name` and `color` of each planet"
   ]
  },
  {
   "cell_type": "code",
   "execution_count": 2,
   "metadata": {},
   "outputs": [
    {
     "name": "stdout",
     "output_type": "stream",
     "text": [
      "All Planets:\n",
      "   id     name       color  num_of_moons    mass  rings\n",
      "0   1  Mercury        gray             0    0.55      0\n",
      "1   2    Venus      yellow             0    0.82      0\n",
      "2   3    Earth        blue             1    1.00      0\n",
      "3   4     Mars         red             2    0.11      0\n",
      "4   5  Jupiter      orange            68  317.90      0\n",
      "5   6   Saturn       hazel            62   95.19      1\n",
      "6   7   Uranus  light blue            27   14.54      1\n",
      "7   8  Neptune   dark blue            14   17.15      1\n",
      "\n",
      "Planets with Rings:\n",
      "   id     name       color  num_of_moons   mass  rings\n",
      "0   6   Saturn       hazel            62  95.19      1\n",
      "1   7   Uranus  light blue            27  14.54      1\n",
      "2   8  Neptune   dark blue            14  17.15      1\n",
      "\n",
      "Planets with More Than 1 Moon:\n",
      "   id     name       color  num_of_moons    mass  rings\n",
      "0   4     Mars         red             2    0.11      0\n",
      "1   5  Jupiter      orange            68  317.90      0\n",
      "2   6   Saturn       hazel            62   95.19      1\n",
      "3   7   Uranus  light blue            27   14.54      1\n",
      "4   8  Neptune   dark blue            14   17.15      1\n",
      "\n",
      "Planets Ordered by Mass (Descending):\n",
      "   id     name       color  num_of_moons    mass  rings\n",
      "0   5  Jupiter      orange            68  317.90      0\n",
      "1   6   Saturn       hazel            62   95.19      1\n",
      "2   8  Neptune   dark blue            14   17.15      1\n",
      "3   7   Uranus  light blue            27   14.54      1\n",
      "4   3    Earth        blue             1    1.00      0\n",
      "5   2    Venus      yellow             0    0.82      0\n",
      "6   1  Mercury        gray             0    0.55      0\n",
      "7   4     Mars         red             2    0.11      0\n",
      "\n",
      "Planets with Mass Greater Than 1:\n",
      "   id     name       color  num_of_moons    mass  rings\n",
      "0   5  Jupiter      orange            68  317.90      0\n",
      "1   6   Saturn       hazel            62   95.19      1\n",
      "2   7   Uranus  light blue            27   14.54      1\n",
      "3   8  Neptune   dark blue            14   17.15      1\n",
      "\n",
      "Planets with Mass Between 0.5 and 5:\n",
      "   id     name   color  num_of_moons  mass  rings\n",
      "0   1  Mercury    gray             0  0.55      0\n",
      "1   2    Venus  yellow             0  0.82      0\n",
      "2   3    Earth    blue             1  1.00      0\n",
      "\n",
      "Planets with Specific Colors (blue, red):\n",
      "   id   name color  num_of_moons  mass  rings\n",
      "0   3  Earth  blue             1  1.00      0\n",
      "1   4   Mars   red             2  0.11      0\n",
      "\n",
      "Number of Planets:\n",
      "   num_planets\n",
      "0            8\n",
      "\n",
      "Average Number of Moons:\n",
      "   avg_moons\n",
      "0      21.75\n",
      "\n",
      "Total Mass of All Planets:\n",
      "   total_mass\n",
      "0      447.26\n"
     ]
    }
   ],
   "source": [
    "# Your code here\n",
    "# 1. Select All Planets\n",
    "query_all_planets = \"SELECT * FROM planets\"\n",
    "df_all_planets = pd.read_sql_query(query_all_planets, conn)\n",
    "print(\"All Planets:\")\n",
    "print(df_all_planets)\n",
    "\n",
    "# 2. Select Planets with Rings\n",
    "query_planets_with_rings = \"SELECT * FROM planets WHERE rings = TRUE\"\n",
    "df_planets_with_rings = pd.read_sql_query(query_planets_with_rings, conn)\n",
    "print(\"\\nPlanets with Rings:\")\n",
    "print(df_planets_with_rings)\n",
    "\n",
    "# 3. Select Planets with More Than 1 Moon\n",
    "query_planets_more_than_1_moon = \"SELECT * FROM planets WHERE num_of_moons > 1\"\n",
    "df_planets_more_than_1_moon = pd.read_sql_query(query_planets_more_than_1_moon, conn)\n",
    "print(\"\\nPlanets with More Than 1 Moon:\")\n",
    "print(df_planets_more_than_1_moon)\n",
    "\n",
    "# 4. Select Planets Ordered by Mass (Descending)\n",
    "query_planets_ordered_by_mass = \"SELECT * FROM planets ORDER BY mass DESC\"\n",
    "df_planets_ordered_by_mass = pd.read_sql_query(query_planets_ordered_by_mass, conn)\n",
    "print(\"\\nPlanets Ordered by Mass (Descending):\")\n",
    "print(df_planets_ordered_by_mass)\n",
    "\n",
    "# 5. Select Planets with Mass Greater Than 1\n",
    "query_planets_mass_greater_than_1 = \"SELECT * FROM planets WHERE mass > 1\"\n",
    "df_planets_mass_greater_than_1 = pd.read_sql_query(query_planets_mass_greater_than_1, conn)\n",
    "print(\"\\nPlanets with Mass Greater Than 1:\")\n",
    "print(df_planets_mass_greater_than_1)\n",
    "\n",
    "# 6. Select Planets with Mass Between 0.5 and 5\n",
    "query_planets_mass_between = \"SELECT * FROM planets WHERE mass BETWEEN 0.5 AND 5\"\n",
    "df_planets_mass_between = pd.read_sql_query(query_planets_mass_between, conn)\n",
    "print(\"\\nPlanets with Mass Between 0.5 and 5:\")\n",
    "print(df_planets_mass_between)\n",
    "\n",
    "# 7. Select Planets with Specific Colors (e.g., 'blue' or 'red')\n",
    "query_planets_specific_colors = \"SELECT * FROM planets WHERE color IN ('blue', 'red')\"\n",
    "df_planets_specific_colors = pd.read_sql_query(query_planets_specific_colors, conn)\n",
    "print(\"\\nPlanets with Specific Colors (blue, red):\")\n",
    "print(df_planets_specific_colors)\n",
    "\n",
    "# 8. Count the Number of Planets\n",
    "query_count_planets = \"SELECT COUNT(*) AS num_planets FROM planets\"\n",
    "df_count_planets = pd.read_sql_query(query_count_planets, conn)\n",
    "print(\"\\nNumber of Planets:\")\n",
    "print(df_count_planets)\n",
    "\n",
    "# 9. Average Number of Moons\n",
    "query_avg_num_of_moons = \"SELECT AVG(num_of_moons) AS avg_moons FROM planets\"\n",
    "df_avg_num_of_moons = pd.read_sql_query(query_avg_num_of_moons, conn)\n",
    "print(\"\\nAverage Number of Moons:\")\n",
    "print(df_avg_num_of_moons)\n",
    "\n",
    "# 10. Total Mass of All Planets\n",
    "query_total_mass = \"SELECT SUM(mass) AS total_mass FROM planets\"\n",
    "df_total_mass = pd.read_sql_query(query_total_mass, conn)\n",
    "print(\"\\nTotal Mass of All Planets:\")\n",
    "print(df_total_mass)\n"
   ]
  },
  {
   "cell_type": "markdown",
   "metadata": {},
   "source": [
    "### 2. Select all columns for each planet whose `num_of_moons` is 0"
   ]
  },
  {
   "cell_type": "code",
   "execution_count": 3,
   "metadata": {},
   "outputs": [
    {
     "name": "stdout",
     "output_type": "stream",
     "text": [
      "   id     name   color  num_of_moons  mass  rings\n",
      "0   1  Mercury    gray             0  0.55      0\n",
      "1   2    Venus  yellow             0  0.82      0\n"
     ]
    }
   ],
   "source": [
    "# Your code here\n",
    "# Write a SQL query to select all columns for planets with num_of_moons = 0\n",
    "query_planets_no_moons = \"SELECT * FROM planets WHERE num_of_moons = 0\"\n",
    "\n",
    "# Execute the query and fetch the data into a pandas DataFrame\n",
    "df_planets_no_moons = pd.read_sql_query(query_planets_no_moons, conn)\n",
    "\n",
    "# Display the DataFrame\n",
    "print(df_planets_no_moons)"
   ]
  },
  {
   "cell_type": "markdown",
   "metadata": {},
   "source": [
    "### 3. Select the `name` and `mass` of each planet whose `name` has exactly 7 letters"
   ]
  },
  {
   "cell_type": "code",
   "execution_count": 4,
   "metadata": {},
   "outputs": [
    {
     "name": "stdout",
     "output_type": "stream",
     "text": [
      "      name    mass\n",
      "0  Mercury    0.55\n",
      "1  Jupiter  317.90\n",
      "2  Neptune   17.15\n"
     ]
    }
   ],
   "source": [
    "# Your code here\n",
    "# Write a SQL query to select the name and mass of planets with names of exactly 7 letters\n",
    "query_planets_name_7_letters = \"SELECT name, mass FROM planets WHERE LENGTH(name) = 7\"\n",
    "\n",
    "# Execute the query and fetch the data into a pandas DataFrame\n",
    "df_planets_name_7_letters = pd.read_sql_query(query_planets_name_7_letters, conn)\n",
    "\n",
    "# Display the DataFrame\n",
    "print(df_planets_name_7_letters)"
   ]
  },
  {
   "cell_type": "markdown",
   "metadata": {},
   "source": [
    "### 4. Select all columns for each planet whose `mass` is greater than 1.00"
   ]
  },
  {
   "cell_type": "code",
   "execution_count": 5,
   "metadata": {},
   "outputs": [
    {
     "name": "stdout",
     "output_type": "stream",
     "text": [
      "   id     name       color  num_of_moons    mass  rings\n",
      "0   5  Jupiter      orange            68  317.90      0\n",
      "1   6   Saturn       hazel            62   95.19      1\n",
      "2   7   Uranus  light blue            27   14.54      1\n",
      "3   8  Neptune   dark blue            14   17.15      1\n"
     ]
    }
   ],
   "source": [
    "# Your code here\n",
    "# Write a SQL query to select all columns for planets with mass > 1.00\n",
    "query_planets_mass_greater_than_1 = \"SELECT * FROM planets WHERE mass > 1.00\"\n",
    "\n",
    "# Execute the query and fetch the data into a pandas DataFrame\n",
    "df_planets_mass_greater_than_1 = pd.read_sql_query(query_planets_mass_greater_than_1, conn)\n",
    "\n",
    "# Display the DataFrame\n",
    "print(df_planets_mass_greater_than_1)"
   ]
  },
  {
   "cell_type": "markdown",
   "metadata": {},
   "source": [
    "### 5. Select the `name` and `mass` of each planet whose `mass` is less than or equal to 1.00"
   ]
  },
  {
   "cell_type": "code",
   "execution_count": 6,
   "metadata": {},
   "outputs": [
    {
     "name": "stdout",
     "output_type": "stream",
     "text": [
      "      name  mass\n",
      "0  Mercury  0.55\n",
      "1    Venus  0.82\n",
      "2    Earth  1.00\n",
      "3     Mars  0.11\n"
     ]
    }
   ],
   "source": [
    "# Your code here\n",
    "# Write a SQL query to select the name and mass of planets with mass <= 1.00\n",
    "query_planets_mass_less_equal_1 = \"SELECT name, mass FROM planets WHERE mass <= 1.00\"\n",
    "\n",
    "# Execute the query and fetch the data into a pandas DataFrame\n",
    "df_planets_mass_less_equal_1 = pd.read_sql_query(query_planets_mass_less_equal_1, conn)\n",
    "\n",
    "# Display the DataFrame\n",
    "print(df_planets_mass_less_equal_1)"
   ]
  },
  {
   "cell_type": "markdown",
   "metadata": {},
   "source": [
    "### 6. Select the `name` and `mass` of each planet whose `mass` is between 0 and 50"
   ]
  },
  {
   "cell_type": "code",
   "execution_count": 7,
   "metadata": {},
   "outputs": [
    {
     "name": "stdout",
     "output_type": "stream",
     "text": [
      "      name   mass\n",
      "0  Mercury   0.55\n",
      "1    Venus   0.82\n",
      "2    Earth   1.00\n",
      "3     Mars   0.11\n",
      "4   Uranus  14.54\n",
      "5  Neptune  17.15\n"
     ]
    }
   ],
   "source": [
    "# Your code here\n",
    "# Write a SQL query to select the name and mass of planets with mass between 0 and 50\n",
    "query_planets_mass_between_0_and_50 = \"SELECT name, mass FROM planets WHERE mass BETWEEN 0 AND 50\"\n",
    "\n",
    "# Execute the query and fetch the data into a pandas DataFrame\n",
    "df_planets_mass_between_0_and_50 = pd.read_sql_query(query_planets_mass_between_0_and_50, conn)\n",
    "\n",
    "# Display the DataFrame\n",
    "print(df_planets_mass_between_0_and_50)"
   ]
  },
  {
   "cell_type": "markdown",
   "metadata": {},
   "source": [
    "### 7. Select all columns for planets that have at least one moon and a `mass` less than 1.00\n",
    "\n",
    "***Hint:*** You can use `AND` to chain together two conditions in SQL, similar to `and` in Python"
   ]
  },
  {
   "cell_type": "code",
   "execution_count": 8,
   "metadata": {},
   "outputs": [
    {
     "name": "stdout",
     "output_type": "stream",
     "text": [
      "   id  name color  num_of_moons  mass  rings\n",
      "0   4  Mars   red             2  0.11      0\n"
     ]
    }
   ],
   "source": [
    "# Your code here\n",
    "# Write a SQL query to select all columns for planets with at least one moon and mass < 1.00\n",
    "query_planets_moons_and_mass = \"SELECT * FROM planets WHERE num_of_moons > 0 AND mass < 1.00\"\n",
    "\n",
    "# Execute the query and fetch the data into a pandas DataFrame\n",
    "df_planets_moons_and_mass = pd.read_sql_query(query_planets_moons_and_mass, conn)\n",
    "\n",
    "# Display the DataFrame\n",
    "print(df_planets_moons_and_mass)"
   ]
  },
  {
   "cell_type": "markdown",
   "metadata": {},
   "source": [
    "### 8. Select the `name` and `color` of planets that have a `color` containing the string \"blue\""
   ]
  },
  {
   "cell_type": "code",
   "execution_count": 9,
   "metadata": {},
   "outputs": [
    {
     "name": "stdout",
     "output_type": "stream",
     "text": [
      "      name       color\n",
      "0    Earth        blue\n",
      "1   Uranus  light blue\n",
      "2  Neptune   dark blue\n"
     ]
    }
   ],
   "source": [
    "# Your code here\n",
    "# Write a SQL query to select the name and color of planets with color containing \"blue\"\n",
    "query_planets_color_blue = \"SELECT name, color FROM planets WHERE color LIKE '%blue%'\"\n",
    "\n",
    "# Execute the query and fetch the data into a pandas DataFrame\n",
    "df_planets_color_blue = pd.read_sql_query(query_planets_color_blue, conn)\n",
    "\n",
    "# Display the DataFrame\n",
    "print(df_planets_color_blue)\n"
   ]
  },
  {
   "cell_type": "markdown",
   "metadata": {},
   "source": [
    "### 9. Select the count of planets that don't have rings as `planets_without_rings`\n",
    "\n",
    "Note: even though the schema states that `rings` is a `BOOLEAN` and the example table shows values `TRUE` and `FALSE`, SQLite does not actually support booleans natively. From the [documentation](https://www.sqlite.org/datatype3.html#boolean_datatype):\n",
    "\n",
    "> SQLite does not have a separate Boolean storage class. Instead, Boolean values are stored as integers 0 (false) and 1 (true)."
   ]
  },
  {
   "cell_type": "code",
   "execution_count": 10,
   "metadata": {},
   "outputs": [
    {
     "name": "stdout",
     "output_type": "stream",
     "text": [
      "   planets_without_rings\n",
      "0                      5\n"
     ]
    }
   ],
   "source": [
    "# Your code here\n",
    "# Write a SQL query to count the planets without rings\n",
    "query_planets_without_rings = \"SELECT COUNT(*) AS planets_without_rings FROM planets WHERE rings = 0\"\n",
    "\n",
    "# Execute the query and fetch the data into a pandas DataFrame\n",
    "df_planets_without_rings = pd.read_sql_query(query_planets_without_rings, conn)\n",
    "\n",
    "# Display the DataFrame\n",
    "print(df_planets_without_rings)"
   ]
  },
  {
   "cell_type": "markdown",
   "metadata": {},
   "source": [
    "### 10. Select the name of all planets, along with a value `has_rings` that returns \"Yes\" if the planet does have rings, and \"No\" if it does not"
   ]
  },
  {
   "cell_type": "code",
   "execution_count": 11,
   "metadata": {},
   "outputs": [
    {
     "name": "stdout",
     "output_type": "stream",
     "text": [
      "      name has_rings\n",
      "0  Mercury        No\n",
      "1    Venus        No\n",
      "2    Earth        No\n",
      "3     Mars        No\n",
      "4  Jupiter        No\n",
      "5   Saturn       Yes\n",
      "6   Uranus       Yes\n",
      "7  Neptune       Yes\n"
     ]
    }
   ],
   "source": [
    "# Your code here\n",
    "# Write a SQL query to select the name of all planets and a has_rings indicator\n",
    "query_planets_has_rings = \"\"\"\n",
    "SELECT name,\n",
    "       CASE\n",
    "           WHEN rings = 1 THEN 'Yes'\n",
    "           ELSE 'No'\n",
    "       END AS has_rings\n",
    "FROM planets\n",
    "\"\"\"\n",
    "\n",
    "# Execute the query and fetch the data into a pandas DataFrame\n",
    "df_planets_has_rings = pd.read_sql_query(query_planets_has_rings, conn)\n",
    "\n",
    "# Display the DataFrame\n",
    "print(df_planets_has_rings)"
   ]
  },
  {
   "cell_type": "markdown",
   "metadata": {},
   "source": [
    "## Summary"
   ]
  },
  {
   "cell_type": "markdown",
   "metadata": {},
   "source": [
    "Congratulations! NASA is one step closer to embarking upon its mission to Mars. In this lab, You practiced writing `SELECT` statements that query a single table to get specific information. You also used other clauses and specified column names to cherry-pick the data we wanted to retrieve. "
   ]
  }
 ],
 "metadata": {
  "kernelspec": {
   "display_name": "Python 3 (ipykernel)",
   "language": "python",
   "name": "python3"
  },
  "language_info": {
   "codemirror_mode": {
    "name": "ipython",
    "version": 3
   },
   "file_extension": ".py",
   "mimetype": "text/x-python",
   "name": "python",
   "nbconvert_exporter": "python",
   "pygments_lexer": "ipython3",
   "version": "3.12.4"
  },
  "toc": {
   "base_numbering": 1,
   "nav_menu": {},
   "number_sections": true,
   "sideBar": true,
   "skip_h1_title": false,
   "title_cell": "Table of Contents",
   "title_sidebar": "Contents",
   "toc_cell": false,
   "toc_position": {},
   "toc_section_display": true,
   "toc_window_display": false
  }
 },
 "nbformat": 4,
 "nbformat_minor": 4
}
